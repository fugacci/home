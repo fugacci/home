{
 "cells": [
  {
   "cell_type": "markdown",
   "id": "00ac9f6e",
   "metadata": {},
   "source": [
    "# RIPSER"
   ]
  },
  {
   "cell_type": "code",
   "execution_count": null,
   "id": "f1e5632a",
   "metadata": {},
   "outputs": [],
   "source": [
    "import numpy as np\n",
    "from ripser import ripser\n",
    "from persim import plot_diagrams\n",
    "import matplotlib.pyplot as plt\n",
    "from ripser import Rips\n",
    "from persim import PersImage\n",
    "from persim import PersistenceImager\n",
    "from persim import bottleneck\n",
    "\n",
    "data = np.random.random((100,2))"
   ]
  },
  {
   "cell_type": "code",
   "execution_count": null,
   "id": "d025df3d",
   "metadata": {},
   "outputs": [],
   "source": [
    "plt.scatter(data[:,0], data[:,1])\n",
    "plt.show()"
   ]
  },
  {
   "cell_type": "code",
   "execution_count": null,
   "id": "cfb7e204",
   "metadata": {},
   "outputs": [],
   "source": [
    "diagrams = ripser(data)['dgms']\n",
    "plot_diagrams(diagrams, show=True)"
   ]
  },
  {
   "cell_type": "code",
   "execution_count": null,
   "id": "69e22844",
   "metadata": {},
   "outputs": [],
   "source": [
    "# max dim (try also maxdim=7)\n",
    "dgms = ripser(data, maxdim=2)['dgms']\n",
    "plot_diagrams(dgms, show=True)"
   ]
  },
  {
   "cell_type": "code",
   "execution_count": null,
   "id": "0e74b0b1",
   "metadata": {},
   "outputs": [],
   "source": [
    "# threshold\n",
    "dgms = ripser(data, thresh=0.1)['dgms']\n",
    "plot_diagrams(dgms, show=True)"
   ]
  },
  {
   "cell_type": "code",
   "execution_count": null,
   "id": "4f0c15c6",
   "metadata": {},
   "outputs": [],
   "source": [
    "pimgr = PersistenceImager(pixel_size=0.1/256, birth_range=(0.05, 0.25), pers_range=(0, 0.2), kernel_params={'sigma': [[0.1/10000, 0.0], [0.0, 0.1/10000]]})\n",
    "imgs = pimgr.transform(diagrams[-1])"
   ]
  },
  {
   "cell_type": "code",
   "execution_count": null,
   "id": "7e86c662",
   "metadata": {},
   "outputs": [],
   "source": [
    "pimgr.plot_image(imgs)"
   ]
  },
  {
   "cell_type": "code",
   "execution_count": null,
   "id": "06cb5c81",
   "metadata": {},
   "outputs": [],
   "source": [
    "dataTwo = np.random.random((100,2))\n",
    "diagramsTwo = ripser(dataTwo)['dgms']"
   ]
  },
  {
   "cell_type": "code",
   "execution_count": null,
   "id": "447d2877",
   "metadata": {},
   "outputs": [],
   "source": [
    "bottleneckZero = bottleneck(diagrams[0], diagramsTwo[0])\n",
    "bottleneckOne = bottleneck(diagrams[1], diagramsTwo[1])"
   ]
  },
  {
   "cell_type": "code",
   "execution_count": null,
   "id": "1bf59d0d",
   "metadata": {},
   "outputs": [],
   "source": [
    "bottleneckZero"
   ]
  },
  {
   "cell_type": "code",
   "execution_count": null,
   "id": "2a1f9646",
   "metadata": {},
   "outputs": [],
   "source": [
    "bottleneckOne"
   ]
  },
  {
   "cell_type": "code",
   "execution_count": null,
   "id": "61d8fe2c",
   "metadata": {},
   "outputs": [],
   "source": []
  }
 ],
 "metadata": {
  "kernelspec": {
   "display_name": "Python 3",
   "language": "python",
   "name": "python3"
  },
  "language_info": {
   "codemirror_mode": {
    "name": "ipython",
    "version": 3
   },
   "file_extension": ".py",
   "mimetype": "text/x-python",
   "name": "python",
   "nbconvert_exporter": "python",
   "pygments_lexer": "ipython3",
   "version": "3.8.8"
  }
 },
 "nbformat": 4,
 "nbformat_minor": 5
}
