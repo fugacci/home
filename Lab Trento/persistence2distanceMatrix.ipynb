{
 "cells": [
  {
   "cell_type": "markdown",
   "id": "e17655f5",
   "metadata": {},
   "source": [
    "# DISTANCE MATRIX COMPUTATION"
   ]
  },
  {
   "cell_type": "code",
   "execution_count": null,
   "id": "2089db2e",
   "metadata": {},
   "outputs": [],
   "source": [
    "import numpy as np\n",
    "import persim\n",
    "import matplotlib.pyplot as plt\n",
    "\n",
    "\n",
    "# set number of considered models\n",
    "nummod=40\n",
    "\n",
    "# select function\n",
    "fun=1\n",
    "\n",
    "# select dimension\n",
    "d=0"
   ]
  },
  {
   "cell_type": "code",
   "execution_count": null,
   "id": "8e3a5d71",
   "metadata": {},
   "outputs": [],
   "source": [
    "# COMPUTE BOTTLENECK-DISTANCE MATRIX\n",
    "\n",
    "# upload the first \"nummod\" persistence diagrams \n",
    "\n",
    "diagrams = []\n",
    "\n",
    "for i in range(1, nummod+1):\n",
    "    diagram = np.loadtxt(\"PDs/PD_{}_{}_H{}.txt\".format(i, fun, d))\n",
    "\n",
    "    if len(np.shape(diagram))==1:\n",
    "        diagram = np.expand_dims(diagram, axis=0)\n",
    "\n",
    "    diagrams.append(diagram)\n",
    "\n",
    "# create an empty distance matrix\n",
    "    \n",
    "distances=np.zeros((nummod,nummod))\n",
    "\n",
    "# compute for each i,j the bottleneck distance between diagrams i and j\n",
    "\n",
    "for i in range(nummod):\n",
    "    for j in range(i):\n",
    "        distances[i,j]=persim.bottleneck(diagrams[i], diagrams[j])\n",
    "\n",
    "distances=distances+np.transpose(distances)"
   ]
  },
  {
   "cell_type": "code",
   "execution_count": null,
   "id": "64f9be4c",
   "metadata": {},
   "outputs": [],
   "source": [
    "# MATRIX VISUALIZATION\n",
    "\n",
    "matfig = plt.figure(figsize=(10,10))\n",
    "\n",
    "plt.matshow(distances, fignum=matfig.number)\n",
    "\n",
    "plt.colorbar()\n",
    "plt.title(\"Bottleneck_Matrix_{}_H{}\".format(fun,d))\n",
    "plt.show()"
   ]
  },
  {
   "cell_type": "code",
   "execution_count": null,
   "id": "ec7d5cad",
   "metadata": {},
   "outputs": [],
   "source": []
  }
 ],
 "metadata": {
  "kernelspec": {
   "display_name": "Python 3",
   "language": "python",
   "name": "python3"
  },
  "language_info": {
   "codemirror_mode": {
    "name": "ipython",
    "version": 3
   },
   "file_extension": ".py",
   "mimetype": "text/x-python",
   "name": "python",
   "nbconvert_exporter": "python",
   "pygments_lexer": "ipython3",
   "version": "3.8.8"
  }
 },
 "nbformat": 4,
 "nbformat_minor": 5
}
