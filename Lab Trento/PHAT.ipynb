{
 "cells": [
  {
   "cell_type": "markdown",
   "id": "dfe6507e",
   "metadata": {},
   "source": [
    "# PHAT"
   ]
  },
  {
   "cell_type": "markdown",
   "id": "4f90a4d0",
   "metadata": {},
   "source": [
    "We will compute via PHAT the persistent homology of this filtered simplicial complex consisting of a single triangle:\n",
    "\n",
    "     3\n",
    "     |\\\\\n",
    "     | \\\\\n",
    "     |  \\\\\n",
    "     |   \\\\ 4\n",
    "    5|    \\\\\n",
    "     |     \\\\\n",
    "     |  6   \\\\\n",
    "     |       \\\\\n",
    "     |________\\\\\n",
    "     0    2    1"
   ]
  },
  {
   "cell_type": "markdown",
   "id": "e3cebc33",
   "metadata": {},
   "source": [
    "First step: build its boundary matrix"
   ]
  },
  {
   "cell_type": "code",
   "execution_count": null,
   "id": "0d484801",
   "metadata": {},
   "outputs": [],
   "source": [
    "import phat\n",
    "\n",
    "# define a boundary matrix with the chosen internal representation\n",
    "boundary_matrix = phat.boundary_matrix(representation = phat.representations.vector_vector)\n",
    "\n",
    "# set the respective columns -- (dimension, boundary) pairs\n",
    "boundary_matrix.columns = [ (0, []),\n",
    "                            (0, []),\n",
    "                            (1, [0,1]),\n",
    "                            (0, []),\n",
    "                            (1, [1,3]),\n",
    "                            (1, [0,3]),\n",
    "                            (2, [2,4,5])]"
   ]
  },
  {
   "cell_type": "code",
   "execution_count": null,
   "id": "a6455078",
   "metadata": {},
   "outputs": [],
   "source": [
    "print(\"\\nThe boundary matrix has %d columns: \\n\" % len(boundary_matrix.columns))\n",
    "for col in boundary_matrix.columns:\n",
    "    s = \"Column %d represents a cell of dimension %d.\" % (col.index, col.dimension)\n",
    "    if (col.boundary):\n",
    "        s = s + \" Its boundary consists of the cells \" + \" \".join([str(c) for c in col.boundary])\n",
    "    print(s)\n",
    "print(\"\\n Overall, the boundary matrix has %d entries.\" % len(boundary_matrix))"
   ]
  },
  {
   "cell_type": "markdown",
   "id": "0d6545dd",
   "metadata": {},
   "source": [
    "Second step: compute the persistence pairs of the boundary matrix"
   ]
  },
  {
   "cell_type": "code",
   "execution_count": null,
   "id": "3eed2b60",
   "metadata": {},
   "outputs": [],
   "source": [
    "pairs = boundary_matrix.compute_persistence_pairs() "
   ]
  },
  {
   "cell_type": "code",
   "execution_count": null,
   "id": "d859ba16",
   "metadata": {},
   "outputs": [],
   "source": [
    "print(\"\\nThere are %d persistence pairs: \\n\" % len(pairs))\n",
    "for pair in pairs:\n",
    "    print(\"Birth: %d, Death: %d\" % pair)\n",
    "    print(\"Homological Degree: %d \\n\" % boundary_matrix.columns[pair[0]].dimension)"
   ]
  },
  {
   "cell_type": "code",
   "execution_count": null,
   "id": "1c4c1414",
   "metadata": {},
   "outputs": [],
   "source": []
  }
 ],
 "metadata": {
  "kernelspec": {
   "display_name": "Python 3",
   "language": "python",
   "name": "python3"
  },
  "language_info": {
   "codemirror_mode": {
    "name": "ipython",
    "version": 3
   },
   "file_extension": ".py",
   "mimetype": "text/x-python",
   "name": "python",
   "nbconvert_exporter": "python",
   "pygments_lexer": "ipython3",
   "version": "3.8.8"
  }
 },
 "nbformat": 4,
 "nbformat_minor": 5
}
